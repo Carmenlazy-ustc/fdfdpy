{
 "cells": [
  {
   "cell_type": "markdown",
   "metadata": {},
   "source": [
    "# fdfdpy test notebook"
   ]
  },
  {
   "cell_type": "markdown",
   "metadata": {},
   "source": [
    "## Import/setup"
   ]
  },
  {
   "cell_type": "code",
   "execution_count": 15,
   "metadata": {
    "collapsed": true
   },
   "outputs": [
    {
     "name": "stdout",
     "output_type": "stream",
     "text": [
      "The autoreload extension is already loaded. To reload it, use:\n",
      "  %reload_ext autoreload\n"
     ]
    }
   ],
   "source": [
    "from fdfdpy import Simulation\n",
    "\n",
    "import matplotlib.pylab as plt\n",
    "import numpy as np\n",
    "import scipy.sparse as sp\n",
    "\n",
    "%load_ext autoreload\n",
    "%autoreload 2\n",
    "%matplotlib inline\n",
    "\n",
    "plt.style.use(['https://git.io/photons.mplstyle',\n",
    "               'https://git.io/photons-paper.mplstyle'])"
   ]
  },
  {
   "cell_type": "code",
   "execution_count": 18,
   "metadata": {},
   "outputs": [
    {
     "name": "stdout",
     "output_type": "stream",
     "text": [
      "10.0\n",
      "16.68100537200059\n",
      "27.825594022071243\n",
      "46.41588833612777\n",
      "77.4263682681127\n",
      "129.1549665014884\n",
      "215.44346900318823\n",
      "359.38136638046257\n",
      "599.4842503189409\n",
      "1000.0\n"
     ]
    }
   ],
   "source": [
    "omega = 2*np.pi*200e12\n",
    "dl = 0.01\n",
    "eps_r = np.ones((600, 200))\n",
    "eps_r[:,80:120] = 12.25\n",
    "\n",
    "nl_region = np.zeros(eps_r.shape)\n",
    "nl_region[100:500, 80:120] = 1\n",
    "\n",
    "simulation = Simulation(omega, eps_r, dl, [15, 15], 'Ez')\n",
    "simulation.add_mode(3.5, 'x', [17, 100], 150)\n",
    "simulation.setup_modes()\n",
    "simulation.solve_fields()\n",
    "\n",
    "fld0 = simulation.fields['Ez'][20, 100]\n",
    "fld1 = simulation.fields['Ez'][580, 100]\n",
    "T_linear = fld1/fld0\n",
    "\n",
    "chi3 = 2.8*1e-18/simulation.L0**2\n",
    "kerr_nonlinearity = lambda e: 3*chi3*np.square(np.abs(e))\n",
    "dkerr_de = lambda e: 3*chi3*np.conj(e)\n",
    "\n",
    "srcval_vec = np.logspace(1, 3, 10)\n",
    "# srcval_vec = np.insert(srcval_vec,0,1e-3)\n",
    "pwr_vec = np.array([])\n",
    "T_vec = np.array([])\n",
    "for srcval in srcval_vec:\n",
    "    print(srcval)\n",
    "    simulation.setup_modes()\n",
    "    simulation.src *= srcval\n",
    "    simulation.solve_fields_nl(kerr_nonlinearity, nl_region,\n",
    "                               dnl_de=dkerr_de, timing=False, averaging=True,\n",
    "                               Estart=None, solver_nl='newton')\n",
    "    fld0 = simulation.fields['Ez'][20, 100]\n",
    "    fld1 = simulation.fields['Ez'][580, 100]\n",
    "    T_vec = np.append(T_vec, fld1/fld0)\n",
    "    pwr = simulation.flux_probe('x', [580, 100], 150)\n",
    "    pwr_vec = np.append(pwr_vec, pwr)"
   ]
  },
  {
   "cell_type": "code",
   "execution_count": 20,
   "metadata": {},
   "outputs": [
    {
     "data": {
      "image/png": "[encoded data removed]",
      "text/plain": [
       "<Figure size 288x216 with 1 Axes>"
      ]
     },
     "metadata": {},
     "output_type": "display_data"
    }
   ],
   "source": [
    "from fdfdpy.constants import *\n",
    "width = dl*40\n",
    "height = width\n",
    "Aeff = width*height # Assume square wg if extrapolated to 3D\n",
    "# n2 = 2.7e-14*1e-4/simulation.L0**2\n",
    "n2 = 3*chi3/(3e8/simulation.L0)/np.sqrt(12.25)/(EPSILON_0*simulation.L0)\n",
    "L = dl*400\n",
    "gamma_spm = (omega/3e8*simulation.L0)*n2/Aeff\n",
    "\n",
    "plt.figure(figsize=(4,3))\n",
    "plt.loglog(pwr_vec*height, -np.unwrap(np.angle(T_vec)-np.angle(T_linear))/np.pi, \"-o\", label=\"fdfd\")\n",
    "plt.loglog(pwr_vec*height, (pwr_vec*height)*L*gamma_spm/np.pi, \"-o\", label=r\"analytic: $n_2k_0/A_{eff}\\cdot P \\cdot L$\")\n",
    "plt.xlabel(\"waveguide power (W)\")\n",
    "plt.ylabel(\"nonlinear phase shift ($\\pi$)\")\n",
    "plt.title(\"Waveguide Kerr SPM\")\n",
    "plt.legend()\n",
    "plt.show()"
   ]
  },
  {
   "cell_type": "code",
   "execution_count": 21,
   "metadata": {},
   "outputs": [
    {
     "data": {
      "text/plain": [
       "0.00090352725316369"
      ]
     },
     "execution_count": 21,
     "metadata": {},
     "output_type": "execute_result"
    }
   ],
   "source": [
    "3*chi3/(3e8/simulation.L0)/np.sqrt(12.25)/(EPSILON_0*simulation.L0)"
   ]
  },
  {
   "cell_type": "code",
   "execution_count": 22,
   "metadata": {},
   "outputs": [
    {
     "data": {
      "text/plain": [
       "2.7e-06"
      ]
     },
     "execution_count": 22,
     "metadata": {},
     "output_type": "execute_result"
    }
   ],
   "source": [
    "2.7e-14*1e-4/simulation.L0**2"
   ]
  },
  {
   "cell_type": "code",
   "execution_count": null,
   "metadata": {},
   "outputs": [],
   "source": []
  }
 ],
 "metadata": {
  "kernelspec": {
   "display_name": "Python 3",
   "language": "python",
   "name": "python3"
  },
  "language_info": {
   "codemirror_mode": {
    "name": "ipython",
    "version": 3
   },
   "file_extension": ".py",
   "mimetype": "text/x-python",
   "name": "python",
   "nbconvert_exporter": "python",
   "pygments_lexer": "ipython3",
   "version": "3.6.4"
  }
 },
 "nbformat": 4,
 "nbformat_minor": 2
}
