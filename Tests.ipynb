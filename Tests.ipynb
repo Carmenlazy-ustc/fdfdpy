{
 "cells": [
  {
   "cell_type": "markdown",
   "metadata": {},
   "source": [
    "# fdfdpy test notebook"
   ]
  },
  {
   "cell_type": "markdown",
   "metadata": {},
   "source": [
    "## Import/setup"
   ]
  },
  {
   "cell_type": "code",
   "execution_count": 1,
   "metadata": {
    "collapsed": true
   },
   "outputs": [],
   "source": [
    "from FDFD.Fdfd import Fdfd\n",
    "\n",
    "import matplotlib.pylab as plt\n",
    "import numpy as np\n",
    "import scipy.sparse as sp\n",
    "\n",
    "%load_ext autoreload\n",
    "%autoreload 2\n",
    "%matplotlib inline"
   ]
  },
  {
   "cell_type": "markdown",
   "metadata": {},
   "source": [
    "## Dipole example"
   ]
  },
  {
   "cell_type": "code",
   "execution_count": 2,
   "metadata": {
    "collapsed": true
   },
   "outputs": [
    {
     "data": {
      "text/plain": [
       "<matplotlib.colorbar.Colorbar at 0x149ecef51748>"
      ]
     },
     "execution_count": 2,
     "metadata": {},
     "output_type": "execute_result"
    },
    {
     "data": {
      "image/png": "[encoded data removed]",
      "text/plain": [
       "<Figure size 432x288 with 2 Axes>"
      ]
     },
     "metadata": {},
     "output_type": "display_data"
    }
   ],
   "source": [
    "omega = 5e14                # angular frequency (2pi)\n",
    "dl = 1e-7                   # grid size (m)\n",
    "eps_r = np.ones((101,101))  # relative permittivity\n",
    "NPML = [15, 15]             # number of pml grid points on x and y borders\n",
    "pol = 'Ez'                  # polarization (either 'Hz' or 'Ez')\n",
    "\n",
    "# sets simulation variables, constructs system matrix 'A', stored in 'simulation' object\n",
    "simulation = Fdfd(omega,eps_r,dl,NPML,pol)# set source and solve for electromagnetic fields\n",
    "b = np.zeros((simulation.Nx,simulation.Ny))\n",
    "b[51,51] = 1\n",
    "(Hx,Hy,Ez) = simulation.solve_fields(b)\n",
    "\n",
    "# plot\n",
    "plt.imshow(np.abs(Ez), cmap='magma')\n",
    "plt.colorbar()\n"
   ]
  },
  {
   "cell_type": "markdown",
   "metadata": {},
   "source": [
    "## Linear system solve"
   ]
  },
  {
   "cell_type": "code",
   "execution_count": 3,
   "metadata": {},
   "outputs": [],
   "source": [
    "# Test that we can do generic linear algebra \n",
    "from FDFD.linalg import solver_direct\n",
    "\n",
    "N = int(1e3)\n",
    "density = 0.01\n",
    "A = sp.csr_matrix(sp.rand(N, N, density)+1j*sp.rand(N, N, density)+sp.eye(N))\n",
    "b = np.random.rand(N,1)+1j*np.random.rand(N,1)\n",
    "x = solver_direct(A, b)\n",
    "np.testing.assert_array_almost_equal((A*x).reshape(N,1), (b).reshape(N,1))"
   ]
  },
  {
   "cell_type": "code",
   "execution_count": null,
   "metadata": {},
   "outputs": [],
   "source": []
  }
 ],
 "metadata": {
  "kernelspec": {
   "display_name": "Python 3",
   "language": "python",
   "name": "python3"
  },
  "language_info": {
   "codemirror_mode": {
    "name": "ipython",
    "version": 3
   },
   "file_extension": ".py",
   "mimetype": "text/x-python",
   "name": "python",
   "nbconvert_exporter": "python",
   "pygments_lexer": "ipython3",
   "version": "3.6.4"
  }
 },
 "nbformat": 4,
 "nbformat_minor": 2
}
